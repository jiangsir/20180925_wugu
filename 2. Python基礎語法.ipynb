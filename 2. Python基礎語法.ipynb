{
 "cells": [
  {
   "cell_type": "markdown",
   "metadata": {
    "slideshow": {
     "slide_type": "slide"
    }
   },
   "source": [
    "# Python 基本語法\n",
    "\n",
    "Python 最特別的就是強迫縮排。\n",
    "縮排固定為 4 個空白字元。\n",
    "\n"
   ]
  },
  {
   "cell_type": "markdown",
   "metadata": {
    "slideshow": {
     "slide_type": "slide"
    }
   },
   "source": [
    "## 基本的算數運算子"
   ]
  },
  {
   "cell_type": "code",
   "execution_count": null,
   "metadata": {
    "slideshow": {
     "slide_type": "-"
    }
   },
   "outputs": [],
   "source": [
    "print(3 + 5) # 加\n",
    "print(8 - 2) # 減\n",
    "print(3 * 5) # 乘\n",
    "print(3 / 2) # 除\n",
    "print(3 // 2) # 商\n",
    "print(13 % 10) # 餘\n",
    "print(10 ** 3) # 指數\n",
    "print((3 + 4) * 2) # 先乘除後加減\n",
    "print(0.1 + 0.2) # 小數點誤差\n"
   ]
  },
  {
   "cell_type": "markdown",
   "metadata": {
    "slideshow": {
     "slide_type": "slide"
    }
   },
   "source": [
    "## 基本資料型態\n",
    "### Python 宣告變數雖然不需要指定變數資料型態，但它仍然是強資料型態語言。\n",
    "* 布林(Boolean):True/False \n",
    "* 整數(Integer): 整數沒有大小限制 e.q. 2016\n",
    "* 浮點數(Float): 有小數點的數字 e.q.  3.14159\n",
    "* 字串(String): 字串 e.q. “Hello”, ‘Hello’"
   ]
  },
  {
   "cell_type": "code",
   "execution_count": null,
   "metadata": {
    "slideshow": {
     "slide_type": "subslide"
    }
   },
   "outputs": [],
   "source": [
    "print(type(55555))\n",
    "print(type(3.14159))\n",
    "print(type(True))\n",
    "print(type(\"Hello\"))"
   ]
  },
  {
   "cell_type": "markdown",
   "metadata": {
    "slideshow": {
     "slide_type": "subslide"
    }
   },
   "source": [
    "## 資料型態轉換\n",
    "\n",
    "轉換成整數：  \n",
    "int(3.14) = 3  # 無條件捨去  \n",
    "int(“12”) = 12 # 變成可運算的數字  \n",
    "轉換成浮點數：  \n",
    "float(“3.14”) = 3.14  \n",
    "轉換成字串：  \n",
    "str(3.14) =  \"3.14\"  \n"
   ]
  },
  {
   "cell_type": "code",
   "execution_count": null,
   "metadata": {
    "slideshow": {
     "slide_type": "subslide"
    }
   },
   "outputs": [],
   "source": [
    "print(int(3.1415926)) # 從浮點數轉換到整數會造成誤差。\n",
    "print(int(\"12\"))\n",
    "print(float(\"3.1415926\"))\n",
    "print(str(3.1415926))"
   ]
  },
  {
   "cell_type": "markdown",
   "metadata": {
    "slideshow": {
     "slide_type": "slide"
    }
   },
   "source": [
    "## 字串處理\n",
    "\n",
    "在 Python 中，使用單引號（'）或雙引號（\"）包起來的資料都是字串。然而，以單引號包起來的字串，如果在字串資料中遇到單引號時，則必須以 \\ 來跳脫（escape）處理，避免被誤認為字串結束。\n"
   ]
  },
  {
   "cell_type": "code",
   "execution_count": null,
   "metadata": {
    "slideshow": {
     "slide_type": "subslide"
    }
   },
   "outputs": [],
   "source": [
    "print(\"I'm Sorry.\") #  可以顯示 '\n",
    "print('print(\"Hello\")') #  可以顯示 \"\n",
    "print(\"print(\\\"I'm Sorry.\\\")\") # 用反斜線(Escape字元)顯示 \"\n",
    "print(\"顯示反斜線 \\\\\") # 顯示反斜線\n",
    "print('C:\\\\Documents and Settings\\\\ericsk\\\\test.dat') # windows 路徑\n",
    "print(\"Hello\" + \"Beauty\") # 用 + 串接字串\n",
    "print(\"Hello\", \"world\", 2016) # 串接！不同資料形態的串接\n",
    "s = \"Hello\" + \" Beauty\"*3 # 字串重複\n",
    "print(s)\n",
    "print(s, end='') # 字尾不換行\n",
    "print(\"s 的長度=\", len(s)) #字串長度 字串串數字用 , \n"
   ]
  },
  {
   "cell_type": "markdown",
   "metadata": {
    "slideshow": {
     "slide_type": "slide"
    }
   },
   "source": [
    "## 取得子字串\n",
    "\n",
    "Python 字串編號圖示：\n",
    "\n",
    "\n",
    "![Alt text](images/substring.png)\n",
    "\n",
    "\n"
   ]
  },
  {
   "cell_type": "markdown",
   "metadata": {
    "slideshow": {
     "slide_type": "subslide"
    }
   },
   "source": [
    "幾個子字串常見的寫法： \n",
    "* :冒號前的 INDEX 省略代表從 0 開始。\n",
    "* :冒號後的 INDEX 省略代表直到最後一個字元。\n",
    "*        str[INDEX] 取得 INDEX 的字元  \n",
    "*        str[-INDEX] 取得倒數 INDEX 的字元  \n",
    "*    str[START:END] 從 START 到 END-1 的子字串  \n",
    "*    str[START:END:STEP] 從 START 到 END-1 每隔 STEP 的子字串  "
   ]
  },
  {
   "cell_type": "code",
   "execution_count": 7,
   "metadata": {
    "slideshow": {
     "slide_type": "subslide"
    }
   },
   "outputs": [
    {
     "name": "stdout",
     "output_type": "stream",
     "text": [
      "s[0]= H\n",
      "s[6:12]= Beauty\n",
      "s[6:]= Beauty\n",
      "s[:6]= Hello \n",
      "s[6:-6]= \n",
      "s[-6:]= Beauty\n",
      "s[:]= Hello Beauty\n",
      "s[::2]= HloBat\n",
      "s[0:6:2]= Hlo\n",
      "s[::-1]= ytuaeB olleH\n"
     ]
    }
   ],
   "source": [
    "s = 'Hello Beauty'\n",
    "print(\"s[0]=\",s[0]) # 字串 s 的第 0 個字元，python 使用 0 based 索引\n",
    "print(\"s[6:12]=\",s[6:12]) # 6~11 的子字串 6<=index<12\n",
    "print(\"s[6:]=\",s[6:]) # 6~字串尾端 的子字串\n",
    "print(\"s[:6]=\",s[:6]) # 0～5 子字串\n",
    "print(\"s[6:-6]=\",s[6:-6]) # -6 代表倒數第6位\n",
    "print(\"s[-6:]=\",s[-6:]) # 取得最後 6 位\n",
    "print(\"s[:]=\", s[:])\n",
    "print(\"s[::2]=\",s[::2]) # 從 0 開始間隔 2 個字元\n",
    "print(\"s[0:6:2]=\",s[0:6:2]) # 0~5 間隔 2 個字元\n",
    "print(\"s[::-1]=\",s[::-1]) # 獲得一個倒反的字串"
   ]
  },
  {
   "cell_type": "markdown",
   "metadata": {
    "slideshow": {
     "slide_type": "slide"
    }
   },
   "source": [
    "## 格式化輸出\n",
    "\n",
    "### 方法 str.format() 的基本用法如下:\n",
    "\n"
   ]
  },
  {
   "cell_type": "code",
   "execution_count": 9,
   "metadata": {
    "slideshow": {
     "slide_type": "subslide"
    }
   },
   "outputs": [
    {
     "name": "stdout",
     "output_type": "stream",
     "text": [
      "We are the knights who say \"Ni!\"\n",
      "spam and eggs\n",
      "eggs and spam\n",
      "The value of PI is approximately 3.142.\n",
      "The value of PI is approximately 3.142.\n",
      "This spam is absolutely horrible.\n",
      "The story of Bill, Manfred, and Georg.\n"
     ]
    }
   ],
   "source": [
    "print('We are the {} who say \"{}!\"'.format('knights', 'Ni'))\n",
    "print('{0} and {1}'.format('spam', 'eggs'))\n",
    "print('{1} and {0}'.format('spam', 'eggs'))\n",
    "\n",
    "import math\n",
    "print('The value of PI is approximately %5.3f.' % math.pi)\n",
    "print('The value of PI is approximately {:5.3f}.'.format(math.pi))\n",
    "\n",
    "# 可以直接呼叫關鍵字參數\n",
    "print('This {food} is {adjective}.'.format(food='spam', adjective='absolutely horrible'))\n",
    "# 位置參數和關鍵字參數可以隨意組合:\n",
    "print('The story of {0}, {1}, and {other}.'.format('Bill', 'Manfred', other='Georg'))"
   ]
  },
  {
   "cell_type": "markdown",
   "metadata": {
    "slideshow": {
     "slide_type": "subslide"
    }
   },
   "source": [
    "### 常見的格式化參數\n",
    "\n",
    "<table class=\"code\">\n",
    "<tbody><tr>\n",
    "<th> Number </th>\n",
    "<th> Format </th>\n",
    "<th> Output </th>\n",
    "<th> Description </th>\n",
    "</tr>\n",
    "<tr>\n",
    "<td> 3.1415926  </td>\n",
    "<td> {:.2f}  </td>\n",
    "<td> 3.14  </td>\n",
    "<td> 2 decimal places </td>\n",
    "</tr>\n",
    "<tr>\n",
    "<td> 3.1415926  </td>\n",
    "<td> {:+.2f} </td>\n",
    "<td> +3.14 </td>\n",
    "<td> 2 decimal places with sign </td>\n",
    "</tr>\n",
    "<tr>\n",
    "<td> -1         </td>\n",
    "<td> {:+.2f} </td>\n",
    "<td> -1.00 </td>\n",
    "<td> 2 decimal places with sign </td>\n",
    "</tr>\n",
    "<tr>\n",
    "<td> 2.71828    </td>\n",
    "<td> {:.0f}  </td>\n",
    "<td> 3   </td>\n",
    "<td> No decimal places </td>\n",
    "</tr>\n",
    "<tr>\n",
    "<td> 5          </td>\n",
    "<td> {:0&gt;2d} </td>\n",
    "<td> 05  </td>\n",
    "<td> Pad number with zeros (left padding, width 2) </td>\n",
    "</tr>\n",
    "<tr>\n",
    "<td> 5          </td>\n",
    "<td> {:x&lt;4d} </td>\n",
    "<td> 5xxx  </td>\n",
    "<td> Pad number with x’s (right padding, width 4) </td>\n",
    "</tr>\n",
    "<tr>\n",
    "<td> 10         </td>\n",
    "<td> {:x&lt;4d} </td>\n",
    "<td> 10xx  </td>\n",
    "<td> Pad number with x’s (right padding, width 4) </td>\n",
    "</tr>\n",
    "<tr>\n",
    "<td> 1000000    </td>\n",
    "<td> {:,}    </td>\n",
    "<td> 1,000,000  </td>\n",
    "<td> Number format with comma separator </td>\n",
    "</tr>\n",
    "<tr>\n",
    "<td> 0.25       </td>\n",
    "<td> {:.2%}  </td>\n",
    "<td> 25.00%  </td>\n",
    "<td> Format percentage </td>\n",
    "</tr>\n",
    "<tr>\n",
    "<td> 1000000000 </td>\n",
    "<td> {:.2e}  </td>\n",
    "<td> 1.00e+09 </td>\n",
    "<td> Exponent notation </td>\n",
    "</tr>\n",
    "<tr>\n",
    "<td> 13         </td>\n",
    "<td> {:10d}  </td>\n",
    "<td> &nbsp;&nbsp;&nbsp;&nbsp;&nbsp;&nbsp;&nbsp;&nbsp;13 </td>\n",
    "<td> Right aligned (default, width 10) </td>\n",
    "</tr>\n",
    "<tr>\n",
    "<td> 13         </td>\n",
    "<td> {:&lt;10d} </td>\n",
    "<td> 13 </td>\n",
    "<td> Left aligned (width 10) </td>\n",
    "</tr>\n",
    "<tr>\n",
    "<td> 13         </td>\n",
    "<td> {:^10d} </td>\n",
    "<td> &nbsp;&nbsp;&nbsp;&nbsp;13 </td>\n",
    "<td> Center aligned (width 10) </td>\n",
    "</tr>\n",
    "</tbody></table>"
   ]
  },
  {
   "cell_type": "markdown",
   "metadata": {
    "slideshow": {
     "slide_type": "slide"
    }
   },
   "source": [
    "### 流程控制 -- 分支"
   ]
  },
  {
   "cell_type": "code",
   "execution_count": null,
   "metadata": {
    "slideshow": {
     "slide_type": "-"
    }
   },
   "outputs": [],
   "source": [
    "age = int(input(\"請輸入狗狗的年齡: \"))\n",
    "print(\"\")\n",
    "if age <= 0:\n",
    "    print(\"輸入錯誤!\")\n",
    "elif age == 1:\n",
    "    print(\"相當於 14 歲的人\")\n",
    "elif age == 2:\n",
    "    print(\"相當於 22 歲的人\")\n",
    "elif age > 2:\n",
    "    human = 22 + (age -2)*5\n",
    "    print(\"相當於\",human, \"歲的人\")"
   ]
  },
  {
   "cell_type": "markdown",
   "metadata": {
    "slideshow": {
     "slide_type": "subslide"
    }
   },
   "source": [
    "### 流程控制 -- 重複\n",
    "\n",
    "    for i in range(1, 5):\n",
    "        pass"
   ]
  },
  {
   "cell_type": "code",
   "execution_count": 8,
   "metadata": {
    "slideshow": {
     "slide_type": "subslide"
    }
   },
   "outputs": [
    {
     "name": "stdout",
     "output_type": "stream",
     "text": [
      "1\n",
      "2\n",
      "3\n",
      "4\n"
     ]
    }
   ],
   "source": [
    "for i in range(1, 5):\n",
    "    print(i)"
   ]
  },
  {
   "cell_type": "markdown",
   "metadata": {
    "collapsed": true,
    "slideshow": {
     "slide_type": "slide"
    }
   },
   "source": [
    "## 檔案處理\n",
    "\n",
    "### 創建檔案並寫入資料。"
   ]
  },
  {
   "cell_type": "code",
   "execution_count": null,
   "metadata": {
    "slideshow": {
     "slide_type": "fragment"
    }
   },
   "outputs": [],
   "source": [
    "import os\n",
    "basepath = 'tmp/'\n",
    "\n",
    "# 寫檔案+創建檔案：\n",
    "f = open(basepath+'A.txt', 'w', encoding = 'UTF-8')    # 也可使用指定路徑等方式，如： C:\\A.txt\n",
    "f.write('你好1\\n')\n",
    "f.write('你好2\\n')\n",
    "f.write('你好3\\n')\n",
    "f.close()\n",
    "\n",
    "os.listdir(basepath)"
   ]
  },
  {
   "cell_type": "markdown",
   "metadata": {
    "slideshow": {
     "slide_type": "subslide"
    }
   },
   "source": [
    "### 讀取檔案"
   ]
  },
  {
   "cell_type": "code",
   "execution_count": null,
   "metadata": {
    "slideshow": {
     "slide_type": "fragment"
    }
   },
   "outputs": [],
   "source": [
    "basepath = 'tmp/'\n",
    "\n",
    "for i in open(basepath+'A.txt', 'r', encoding='UTF-8'):\n",
    "    print(i,end='')"
   ]
  }
 ],
 "metadata": {
  "celltoolbar": "Slideshow",
  "kernelspec": {
   "display_name": "Python 3",
   "language": "python",
   "name": "python3"
  },
  "language_info": {
   "codemirror_mode": {
    "name": "ipython",
    "version": 3
   },
   "file_extension": ".py",
   "mimetype": "text/x-python",
   "name": "python",
   "nbconvert_exporter": "python",
   "pygments_lexer": "ipython3",
   "version": "3.6.5"
  }
 },
 "nbformat": 4,
 "nbformat_minor": 1
}
