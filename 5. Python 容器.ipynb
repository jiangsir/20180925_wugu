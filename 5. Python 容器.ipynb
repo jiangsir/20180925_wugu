{
 "cells": [
  {
   "cell_type": "markdown",
   "metadata": {},
   "source": [
    "## Python 容器\n",
    "\n",
    "### Python 常用的容器型態： list、set、dict、tuple。\n",
    "\n",
    "依據它所使用的括號可以分成：\n",
    "\n",
    "* 小括號：tuple\n",
    "* 中括號：list\n",
    "* 大括號：dict, set\n",
    "\n"
   ]
  },
  {
   "cell_type": "markdown",
   "metadata": {},
   "source": [
    "### Tuple () 小括號 -- 元組\n"
   ]
  },
  {
   "cell_type": "code",
   "execution_count": null,
   "metadata": {},
   "outputs": [],
   "source": [
    "x = (10,12) # 用小掛號設定 tuple\n",
    "print(x)\n",
    "x = (10,11)\n",
    "print(type(x))\n",
    "y = list(x) # 轉換成 list\n",
    "print(type(y))\n",
    "y[0] = 20 # list 就可以寫入了。\n",
    "print(y)\n",
    "\n",
    "x[0] = 15  #無法更改內容\n"
   ]
  },
  {
   "cell_type": "markdown",
   "metadata": {},
   "source": [
    "### list [] 中括號 -- 串列\n"
   ]
  },
  {
   "cell_type": "code",
   "execution_count": null,
   "metadata": {},
   "outputs": [],
   "source": [
    "x = [] # 用中括號設定 list\n",
    "slist = ['A','B','C','D','E']\n",
    "print(slist)\n",
    "slist[0] = 'B'\n",
    "print(slist)\n",
    "\n",
    "dlist = [['A','B','C','D','E'] , [1,2,3,4,5]] # 雙重 List\n",
    "print(dlist[1])\n",
    "print(dlist[1][4])\n",
    "\n",
    "slist = ['A','B','C','D','E']\n",
    "slist.append('F') # 在最後增加單一個項目 => append\n",
    "print(slist)\n",
    "slist.append([1,2,3])  \n",
    "print(slist)\n"
   ]
  },
  {
   "cell_type": "code",
   "execution_count": null,
   "metadata": {},
   "outputs": [],
   "source": [
    "slist.extend(['G','H','I']) #在最後增加一個串列 print(slist)\n",
    "print(slist)\n",
    "slist = slist + ['J', 'K', 'L'] #在最後增加一個串列 \n",
    "print(slist)\n",
    "slist.insert(1,'0')  #insert(位置,item) \n",
    "print(slist)\n",
    "slist.insert(3,['3', '4'])  #insert(位置,item) \n",
    "print(slist)\n",
    "slist[2:] = ['a', 'b', 'c'] # 在 slist 2:最後 取代 list\n",
    "plist = ['A','B','C','D','E']\n",
    "print(slist)\n",
    "\n"
   ]
  },
  {
   "cell_type": "code",
   "execution_count": null,
   "metadata": {},
   "outputs": [],
   "source": [
    "slist = ['A','B','C','D','E']\n",
    "del slist[1] #刪除指定位置項目 => del\n",
    "print(slist)\n",
    "slist[1:3] = [] # 刪除 1~2 的項目\n",
    "print(slist)\n",
    "\n",
    "plist = ['A','B','C','D','E']\n",
    "print(plist.pop()) #預設移出刪除最後一項 = pop(-1) , 若pop(0)則是移出開頭項\n",
    "print(plist)\n",
    "print(plist.index('B'))  #找出項目值的位置 => index 只會找出第一個出現的位置\n",
    "\n",
    "clist = ['A','B','C','D','E']\n",
    "print('B' in clist) # 判斷項目是否存在於list中 => in\n",
    "print('F' in clist)"
   ]
  },
  {
   "cell_type": "code",
   "execution_count": null,
   "metadata": {},
   "outputs": [],
   "source": [
    "\n",
    "wlist = ['D','A','F','C','E','D']\n",
    "print(wlist)\n",
    "\n",
    "sorted(wlist)\n",
    "print(wlist)\n",
    "\n",
    "wlist = sorted(wlist) # 排序 字典序\n",
    "print(wlist)\n",
    "\n",
    "nlist = [4,23,1,3,2,98,3]\n",
    "print(sorted(nlist)) # 排序\n"
   ]
  },
  {
   "cell_type": "markdown",
   "metadata": {},
   "source": [
    "### dict {} 大括號 -- 字典"
   ]
  },
  {
   "cell_type": "code",
   "execution_count": 1,
   "metadata": {},
   "outputs": [
    {
     "name": "stdout",
     "output_type": "stream",
     "text": [
      "d['Name']:  Ronaldo\n",
      "d['Age']:  8\n",
      "d['School']:  高師大附中\n",
      "{'Name': 'Ronaldo', 'Age': 8, 'Class': 'First', 'School': '高師大附中'}\n"
     ]
    }
   ],
   "source": [
    "# 字典 d = {key1 : value1, key2 : value2 }\n",
    "# key 必須是唯一的，value 則不需要\n",
    "# value 可以是任意資料型態， key 則必須是不可變的，如 string, int , tuple\n",
    "\n",
    "d = {} # 建立一個空的 dict\n",
    "d = {1: 'Ronaldo', 3: 7, 5: 'First'}\n",
    "d = {'Name': 'Ronaldo', 'Age': 7, 'Class': 'First'}\n",
    "\n",
    "d['Age'] = 8;               # 更新 Age\n",
    "d['School'] = \"高師大附中\"  # 新增一個 key\n",
    "print (\"d['Name']: \", d['Name'])\n",
    "print (\"d['Age']: \", d['Age'])\n",
    "print (\"d['School']: \", d['School'])\n",
    "print(d)"
   ]
  },
  {
   "cell_type": "code",
   "execution_count": 2,
   "metadata": {},
   "outputs": [
    {
     "name": "stdout",
     "output_type": "stream",
     "text": [
      "{1: 'a', 2: 'b', 3: 'c'}\n",
      "<class 'dict'>\n",
      "d[2]= b\n",
      "{1: 'a', 2: 'b', 3: 'c', 4: 'd'}\n",
      "True\n",
      "False\n",
      "len(d)= 4\n"
     ]
    }
   ],
   "source": [
    "d = {1:\"a\", 2:\"b\", 3:\"c\"}\n",
    "print(d)\n",
    "print(type(d))\n",
    "print(\"d[2]=\", d[2])\n",
    "d[4] = \"d\"\n",
    "print(d)\n",
    "print(3 in d)\n",
    "print(3 not in d)\n",
    "print(\"len(d)=\", len(d))"
   ]
  },
  {
   "cell_type": "code",
   "execution_count": 3,
   "metadata": {},
   "outputs": [
    {
     "name": "stdout",
     "output_type": "stream",
     "text": [
      "{'Name': 'Ronaldo', 'Class': 'First', 'school': '高師大附中', 'addr': '凱旋路'}\n",
      "Ronaldo\n",
      "Ronaldo\n",
      "{'Class': 'First', 'school': '高師大附中', 'addr': '凱旋路'}\n"
     ]
    }
   ],
   "source": [
    "d = {'Name': 'Ronaldo', 'Age': 7, 'Class': 'First', 'school':'高師大附中', 'addr':'凱旋路'}\n",
    "del d['Age']\n",
    "print(d)\n",
    "print(d.get('Name'))\n",
    "print(d.pop('Name'))\n",
    "print(d)"
   ]
  },
  {
   "cell_type": "code",
   "execution_count": 4,
   "metadata": {},
   "outputs": [
    {
     "name": "stdout",
     "output_type": "stream",
     "text": [
      "l1= <class 'list'>\n",
      "l1= ['First', '高師大附中', '凱旋路']\n",
      "l2= <class 'list'>\n",
      "l2= ['Class', 'school', 'addr']\n",
      "sorted(d)= ['Class', 'addr', 'school']\n",
      "{1: 'a', 2: 56, 3: 'xxx', 5: 'zzz', 4: 'yyy'}\n"
     ]
    }
   ],
   "source": [
    "l1 = list(d.values()) # 將 values 轉成 list\n",
    "print(\"l1=\", type(l1))\n",
    "print(\"l1=\", l1)\n",
    "l2 = list(d.keys())  # 將 keys 轉成 list\n",
    "print(\"l2=\", type(l2))\n",
    "print(\"l2=\", l2)\n",
    "print(\"sorted(d)=\",sorted(d)) # 把 keys 變成一個 list 並排序\n",
    "\n",
    "# 合併兩個 dict\n",
    "d1= {1:\"a\", 2:56, 3:\"c\"}\n",
    "d2= {5:\"zzz\", 4:\"yyy\", 3:\"xxx\"}\n",
    "# print(d1+d2) # dict 合併不能使用 + \n",
    "d1.update(d2)\n",
    "print(d1)\n"
   ]
  },
  {
   "cell_type": "markdown",
   "metadata": {},
   "source": [
    "### 進階的容器\n",
    "\n",
    "* defaultdict: 與 dict 類似, 只是不需要檢查 key 是否存在\n",
    "* counter: 自動統計每個值的出現次數\n",
    "* deque: 雙頭的 queue\n",
    "* namedtuple: 有 key 的 tuple\n",
    "* enum.Enum (包含在Python 3.4以上): 枚舉, 可以明確地表列所有允許的值"
   ]
  }
 ],
 "metadata": {
  "kernelspec": {
   "display_name": "Python 3",
   "language": "python",
   "name": "python3"
  },
  "language_info": {
   "codemirror_mode": {
    "name": "ipython",
    "version": 3
   },
   "file_extension": ".py",
   "mimetype": "text/x-python",
   "name": "python",
   "nbconvert_exporter": "python",
   "pygments_lexer": "ipython3",
   "version": "3.6.5"
  }
 },
 "nbformat": 4,
 "nbformat_minor": 2
}
