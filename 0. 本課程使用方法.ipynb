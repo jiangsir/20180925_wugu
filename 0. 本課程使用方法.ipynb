{
 "cells": [
  {
   "cell_type": "markdown",
   "metadata": {
    "slideshow": {
     "slide_type": "slide"
    }
   },
   "source": [
    "# 課程檔案公布在 Github \n",
    "\n",
    "[本講義 Github 公開位置 https://github.com/jiangsir/20180925_wugu](https://github.com/jiangsir/20180925_wugu)"
   ]
  },
  {
   "cell_type": "markdown",
   "metadata": {
    "slideshow": {
     "slide_type": "subslide"
    }
   },
   "source": [
    "# 本講義設計工具 jupyter notebook & Markdown\n",
    "\n",
    "jupyter notebook 不僅是一個 python 程式的執行環境, 也可以透過 RISE 套件輔助變成投影片顯示\n",
    "\n",
    "[Markdown 語法講義](http://markdown.tw/)"
   ]
  },
  {
   "cell_type": "markdown",
   "metadata": {
    "slideshow": {
     "slide_type": "slide"
    }
   },
   "source": [
    "# 本研習的課程設計思路\n",
    "\n",
    "### 本次課程的進程會說明一個段落之後，讓各位試著操作，課程的內容若無法立即吸收，程式碼全部放在 Github 上，建議課堂上的目標是讓程式正確執行並進行小部分修改。細部內容可以回去持續專研。"
   ]
  }
 ],
 "metadata": {
  "celltoolbar": "Slideshow",
  "kernelspec": {
   "display_name": "Python 3",
   "language": "python",
   "name": "python3"
  },
  "language_info": {
   "codemirror_mode": {
    "name": "ipython",
    "version": 3
   },
   "file_extension": ".py",
   "mimetype": "text/x-python",
   "name": "python",
   "nbconvert_exporter": "python",
   "pygments_lexer": "ipython3",
   "version": "3.6.5"
  }
 },
 "nbformat": 4,
 "nbformat_minor": 1
}
