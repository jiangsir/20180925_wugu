{
 "cells": [
  {
   "cell_type": "markdown",
   "metadata": {
    "slideshow": {
     "slide_type": "slide"
    }
   },
   "source": [
    "# Python 簡介\n",
    "\n",
    "Python的創始人為吉多·范羅蘇姆（Guido van Rossum）。\n",
    "\n",
    "![圖片](images/Guido_van_Rossum_OSCON_2006.jpg)\n",
    "\n"
   ]
  },
  {
   "cell_type": "markdown",
   "metadata": {
    "slideshow": {
     "slide_type": "subslide"
    }
   },
   "source": [
    "優點：  \n",
    "好上手  \n",
    "簡潔、優雅  \n",
    "少歧異  \n",
    "函式庫豐富  \n",
    "\n",
    "### 號稱：runnable pseudocode"
   ]
  },
  {
   "cell_type": "markdown",
   "metadata": {
    "slideshow": {
     "slide_type": "subslide"
    }
   },
   "source": [
    "### 豐富的應用場景\n",
    "\n",
    "Web程式 - Django、Pyramid、TurboGears、Tornado、web2py、Zope、Flask\n",
    "Python經常被用於Web開發。一些Web框架，如Django、Pyramid、TurboGears、Tornado、web2py、Zope、Flask等，可以讓程式設計師輕鬆地開發和管理複雜的Web程式。Python對於各種網路協定的支援很完善，因此經常被用於編寫伺服器軟體、網路蠕蟲。\n",
    "\n",
    "\n",
    "作業系統 - biquity、Anaconda\n",
    "在很多作業系統裡，Python是標準的系統元件。大多數Linux發行版以及NetBSD、OpenBSD和Mac OS X都整合了Python，可以在終端機下直接執行Python。\n",
    "\n",
    "\n",
    "GUI開發 - Tkinter、wxPython、PyQt\n",
    "Python本身包含的Tkinter庫能夠支援簡單的GUI開發。但是越來越多的Python程式設計師選擇wxPython或者PyQt等GUI套件來開發跨平台的桌面軟體。使用它們開發的桌面軟體執行速度快，與使用者的桌面環境相契合。通過PyInstaller還能將程式釋出為獨立的安裝程式包。\n",
    "\n",
    "\n",
    "遊戲 \n",
    "很多遊戲使用C++編寫圖形顯示等高效能模組，而使用Python或者Lua編寫遊戲的邏輯、伺服器。相較於Python，Lua的功能更簡單、體積更小；而Python則支援更多的特性和資料類型。很多遊戲，如EVE Online使用Python來處理遊戲中繁多的邏輯。\n",
    "\n",
    "\n",
    "網頁爬蟲 - Scrapy\n",
    "爬蟲Scrapy，簡單易用。做一個爬蟲不會是整個項目的重點，因此簡潔的架構、python簡潔的代碼、scrapy強大的工具包總是可以用最少的代價很好的完成問題。\n",
    "\n",
    "\n",
    "數據挖掘/機器學習 - numpy, scipy, matplotlib\n",
    "numpy, scipy, matplotlib三個是python科學計算的基礎庫。大部分其他的python機器學習庫都建立在他們的基礎上。比如主題模型Gensim，機器學習工具包scikits.learn，自然語言處理工具包NLTK。數學表達式模擬工具theano。支持向量機的libsvm。\n",
    "\n",
    "\n",
    "自然語言處理 - nltk\n",
    "nltk是自然語言處理極佳的工具，相比有時候還需要java的stanfordnlp，有了好的語料處理工具，nlp和ml也沒那麼大區別了。"
   ]
  },
  {
   "cell_type": "markdown",
   "metadata": {
    "collapsed": true,
    "slideshow": {
     "slide_type": "subslide"
    }
   },
   "source": [
    "科學計算<br> \n",
    "◎NumPy（Numerical Python）  \n",
    "○高階大量的維度陣列與矩陣運算。   \n",
    "◎Pandas   \n",
    "○基於 NumPy 再增加了 Series 和 DataFrame 兩種資料 結構。   \n",
    "◎SciPy   \n",
    "○科學計算的工具。  \n",
    "\n",
    "\n"
   ]
  },
  {
   "cell_type": "markdown",
   "metadata": {
    "slideshow": {
     "slide_type": "subslide"
    }
   },
   "source": [
    "◎ requests  \n",
    "網路存取函式庫，網路爬蟲必備  \n",
    "◎Scikit-learn。   \n",
    "○完整的處理資料處理、探勘、機器學習流程  \n",
    "◉ Preprocessing  \n",
    "◉ Dimensionality reduction  \n",
    "◉ Model selection  \n",
    "◉ Mining/Learning  \n",
    "◉ Experiment  "
   ]
  },
  {
   "cell_type": "markdown",
   "metadata": {
    "slideshow": {
     "slide_type": "subslide"
    }
   },
   "source": [
    "科學計算  \n",
    "Matplotlib  \n",
    "用Python實現的類matlab的第三方庫，用以繪製一些高品質的數學二維圖形。  \n",
    "Pandas  \n",
    "用於資料分析、資料建模、資料視覺化的第三方庫。  \n",
    "SciPy  \n",
    "基於Python的matlab實現，旨在實現matlab的所有功能。  \n",
    "NumPy  \n",
    "基於Python的科學計算第三方庫，提供了矩陣，線性代數，傅立葉變換等等的解決方案。  \n",
    "\n"
   ]
  },
  {
   "cell_type": "markdown",
   "metadata": {
    "slideshow": {
     "slide_type": "subslide"
    }
   },
   "source": [
    "GUI  \n",
    "PyGtk  \n",
    "基於Python的GUI程式開發GTK+庫。  \n",
    "PyQt  \n",
    "用於Python的QT開發庫。  \n",
    "WxPython  \n",
    "Python下的GUI編程框架，與MFC的架構相似。  \n",
    "\n"
   ]
  },
  {
   "cell_type": "markdown",
   "metadata": {
    "collapsed": true,
    "slideshow": {
     "slide_type": "subslide"
    }
   },
   "source": [
    "BeautifulSoup\n",
    "基於Python的HTML/XML解析器，簡單易用。\n",
    "Requests\n",
    "適合於人類使用的HTTP庫，封裝了許多繁瑣的HTTP功能，極大地簡化了HTTP請求所需要的代碼量。\n",
    "scikit-learn\n",
    "機器學習第三方庫，實現許多知名的機器學習演算法。\n",
    "TensorFlow\n",
    "Google開發維護的開源機器學習庫。\n",
    "Keras\n",
    "基於TensorFlow，Theano與CNTK的高階神經網路API。\n",
    "\n"
   ]
  },
  {
   "cell_type": "markdown",
   "metadata": {
    "slideshow": {
     "slide_type": "slide"
    }
   },
   "source": [
    "# Python 開發環境\n",
    "\n",
    "常見的有：\n",
    "\n",
    "* IDLE\n",
    "* Jupyter notebook (Anaconda)\n",
    "* Pycharm\n"
   ]
  },
  {
   "cell_type": "markdown",
   "metadata": {
    "slideshow": {
     "slide_type": "slide"
    }
   },
   "source": [
    "# 使用 Python 內建 IDLE\n",
    "\n",
    "\n"
   ]
  },
  {
   "cell_type": "markdown",
   "metadata": {
    "collapsed": true,
    "slideshow": {
     "slide_type": "slide"
    }
   },
   "source": [
    "# 使用 jupyter notebook"
   ]
  },
  {
   "cell_type": "markdown",
   "metadata": {
    "slideshow": {
     "slide_type": "subslide"
    }
   },
   "source": [
    "## 使用 jupyter notebook 快速查詢\n",
    "\n",
    "### 快捷鍵可以節省很多時間。Jupyter在頂部菜單提供了一個快捷鍵列表：Help > Keyboard Shortcuts 。另外一個方法是使用Cmd + Shift + P ( Linux 和 Windows下 Ctrl + Shift + P亦可)調出命令面板\n"
   ]
  },
  {
   "cell_type": "markdown",
   "metadata": {
    "slideshow": {
     "slide_type": "subslide"
    }
   },
   "source": [
    "## 使用 jupyter notebook 投影片\n",
    "\n",
    "使用 RISE 來呈現投影片  \n",
    "官網： https://github.com/damianavila/RISE\n",
    "\n",
    "最簡單的安裝方式：\n",
    "\n",
    "使用 conda 進行安裝\n",
    "\n",
    "    conda install -c conda-forge rise\n"
   ]
  },
  {
   "cell_type": "markdown",
   "metadata": {
    "slideshow": {
     "slide_type": "slide"
    }
   },
   "source": [
    "### 如何執行?\n",
    "\n",
    "> python test.py\n"
   ]
  },
  {
   "cell_type": "markdown",
   "metadata": {
    "slideshow": {
     "slide_type": "slide"
    }
   },
   "source": [
    "### 指定 python 解釋器\n",
    "\n",
    "在 .py 程式的第一行指定 python 解釋器\n",
    "\n",
    "有兩種寫法:\n",
    "\n",
    "    #!/usr/bin/python \n",
    "相當於寫死了 python 的執行路徑，移植會有問題，不夠好。\n",
    "\n",
    "\n",
    "    #!/usr/bin/env python\n",
    "\n",
    "會去環境變數中尋找 python ，較推薦這種寫法\n",
    "\n",
    "執行指令就不須指定 python 了\n",
    "> ./test.py"
   ]
  },
  {
   "cell_type": "code",
   "execution_count": 2,
   "metadata": {
    "slideshow": {
     "slide_type": "subslide"
    }
   },
   "outputs": [
    {
     "name": "stdout",
     "output_type": "stream",
     "text": [
      "test\n"
     ]
    }
   ],
   "source": [
    "#!/usr/bin/env python\n",
    "print('test')"
   ]
  }
 ],
 "metadata": {
  "celltoolbar": "Slideshow",
  "kernelspec": {
   "display_name": "Python 3",
   "language": "python",
   "name": "python3"
  },
  "language_info": {
   "codemirror_mode": {
    "name": "ipython",
    "version": 3
   },
   "file_extension": ".py",
   "mimetype": "text/x-python",
   "name": "python",
   "nbconvert_exporter": "python",
   "pygments_lexer": "ipython3",
   "version": "3.6.5"
  }
 },
 "nbformat": 4,
 "nbformat_minor": 1
}
