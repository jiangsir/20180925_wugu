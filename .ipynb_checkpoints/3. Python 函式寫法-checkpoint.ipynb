{
 "cells": [
  {
   "cell_type": "markdown",
   "metadata": {},
   "source": [
    "### 函數處理\n",
    "\n",
    "宣告方法: \n",
    "\n",
    "    def functionname(arg0, arg1, ...):\n",
    "        statement\n"
   ]
  },
  {
   "cell_type": "markdown",
   "metadata": {},
   "source": [
    "### 變數有效範圍\n",
    "\n",
    "    def f(x,y):\n",
    "        print('You called f(x,y) with the value x = ' + str(x) + ' and y = ' + str(y))\n",
    "        print('x * y = ' + str(x*y))\n",
    "        z = 4 # cannot reach z, so THIS WON'T WORK\n",
    " \n",
    "    z = 3\n",
    "    f(3,2)\n",
    "    print(\"z =\", z)\n",
    "    \n",
    "在上例中, z 的值並不受到影響"
   ]
  },
  {
   "cell_type": "code",
   "execution_count": 4,
   "metadata": {},
   "outputs": [
    {
     "name": "stdout",
     "output_type": "stream",
     "text": [
      "You called f(x,y) with the value x = 3 and y = 2\n",
      "x * y = 6\n",
      "z = 3\n"
     ]
    }
   ],
   "source": [
    "def f(x,y):\n",
    "    print('You called f(x,y) with the value x = ' + str(x) + ' and y = ' + str(y))\n",
    "    print('x * y = ' + str(x*y))\n",
    "    z = 4 # cannot reach z, so THIS WON'T WORK\n",
    "\n",
    "z = 3\n",
    "f(3,2)\n",
    "print(\"z =\", z)"
   ]
  },
  {
   "cell_type": "code",
   "execution_count": 5,
   "metadata": {},
   "outputs": [
    {
     "name": "stdout",
     "output_type": "stream",
     "text": [
      "--------------------------------------------------------------------------------\n",
      "----------------------------------------------------------------------\n",
      "3.1415926\n",
      "800\n"
     ]
    }
   ],
   "source": [
    "# 無參數, 無回傳\n",
    "def printLine():\n",
    "    print('-'*80)\n",
    "\n",
    "printLine()\n",
    "\n",
    "\n",
    "# 有參數, 無回傳\n",
    "def printLine(num):\n",
    "    print('-' * num)\n",
    "printLine(70)\n",
    "    \n",
    "# 無參數, 有回傳\n",
    "def Pi():\n",
    "    return 3.1415926\n",
    "print(Pi())\n",
    "\n",
    "# 有參數, 有回傳\n",
    "def commission(total):\n",
    "    rate=0.0\n",
    "    if total>20000:\n",
    "        rate=0.15\n",
    "    elif total>10000:\n",
    "        rate=0.1\n",
    "    else:\n",
    "        rate=0.08\n",
    "        \n",
    "    return int(total*rate)\n",
    "\n",
    "print(commission(10000))"
   ]
  },
  {
   "cell_type": "markdown",
   "metadata": {},
   "source": [
    "### 函式-不定個數參數\n",
    "\n",
    "有設定初值的傳入參數可以在呼叫時省去傳值, 其參數值即為預定值.\n",
    "\n"
   ]
  },
  {
   "cell_type": "code",
   "execution_count": 6,
   "metadata": {},
   "outputs": [
    {
     "name": "stdout",
     "output_type": "stream",
     "text": [
      "77.33333333333333\n",
      "74.33333333333333\n"
     ]
    }
   ],
   "source": [
    "def average(chi, eng, mat, wchi=1.0, weng=1.0, wmat=1.0):\n",
    "    return (chi*wchi+eng*weng+mat*wmat)/(wchi+weng+wmat)\n",
    "\n",
    "print(average(80, 85, 67))\n",
    "\n",
    "print(average(80, 68, 70, 3.0, 2.0)) # 傳參數指定 wchi=3.0, weng=2.0"
   ]
  },
  {
   "cell_type": "markdown",
   "metadata": {},
   "source": [
    "### 函式可以回傳多個值\n",
    "\n",
    "這在很多程式當中是必須用\"資料結構\"的方式迂迴的處裡, 在 Python 當中這樣使用就非常方便。\n"
   ]
  },
  {
   "cell_type": "code",
   "execution_count": 7,
   "metadata": {},
   "outputs": [
    {
     "name": "stdout",
     "output_type": "stream",
     "text": [
      "170公分 = 5呎6吋\n"
     ]
    }
   ],
   "source": [
    "\n",
    "def cm_feet_and_inch(cm):\n",
    "    feet, r=divmod(cm, 30.48)\n",
    "    inch=r//2.54\n",
    "    return feet, inch\n",
    "\n",
    "f, i = cm_feet_and_inch(170)\n",
    "print('{}公分 = {}呎{}吋'.format(170, int(f), int(i)))\n"
   ]
  },
  {
   "cell_type": "markdown",
   "metadata": {},
   "source": [
    "### 遞迴\n",
    "\n",
    "\n",
    "函式自己呼叫自己"
   ]
  },
  {
   "cell_type": "code",
   "execution_count": 8,
   "metadata": {},
   "outputs": [
    {
     "name": "stdout",
     "output_type": "stream",
     "text": [
      "55\n"
     ]
    }
   ],
   "source": [
    "def fn(n):\n",
    "    if n==1:\n",
    "        return 1\n",
    "    elif n==2:\n",
    "        return 1\n",
    "    else:\n",
    "        return fn(n-1) + fn(n-2)\n",
    "    \n",
    "print(fn(10))"
   ]
  },
  {
   "cell_type": "markdown",
   "metadata": {},
   "source": [
    "## 匿名函數（lambda）"
   ]
  },
  {
   "cell_type": "code",
   "execution_count": 2,
   "metadata": {},
   "outputs": [
    {
     "name": "stdout",
     "output_type": "stream",
     "text": [
      "6\n"
     ]
    }
   ],
   "source": [
    "f = lambda x : 2 * x\n",
    "print(f(3))"
   ]
  },
  {
   "cell_type": "code",
   "execution_count": 3,
   "metadata": {},
   "outputs": [
    {
     "name": "stdout",
     "output_type": "stream",
     "text": [
      "False\n",
      "True\n"
     ]
    }
   ],
   "source": [
    "f = lambda x: x > 10\n",
    "print(f(2))\n",
    "print(f(12))"
   ]
  }
 ],
 "metadata": {
  "kernelspec": {
   "display_name": "Python 3",
   "language": "python",
   "name": "python3"
  },
  "language_info": {
   "codemirror_mode": {
    "name": "ipython",
    "version": 3
   },
   "file_extension": ".py",
   "mimetype": "text/x-python",
   "name": "python",
   "nbconvert_exporter": "python",
   "pygments_lexer": "ipython3",
   "version": "3.6.5"
  }
 },
 "nbformat": 4,
 "nbformat_minor": 2
}
