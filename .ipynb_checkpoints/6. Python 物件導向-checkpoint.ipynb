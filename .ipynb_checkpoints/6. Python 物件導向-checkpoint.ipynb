{
 "cells": [
  {
   "cell_type": "markdown",
   "metadata": {},
   "source": [
    "## 類別(class)-基本使用\n",
    "---\n",
    "\n",
    "### 用class敘述建立一個類別, 它可以生成多個這個類別的實例(instance). 在類別中的__init__()函式是它的建構元, 其內的self表示在記憶體中生成的那個實例.\n",
    "\n"
   ]
  },
  {
   "cell_type": "code",
   "execution_count": 2,
   "metadata": {},
   "outputs": [
    {
     "name": "stdout",
     "output_type": "stream",
     "text": [
      "王大同\n"
     ]
    }
   ],
   "source": [
    "class Student():\n",
    "    #-------------------    \n",
    "    # 建構元\n",
    "    #-------------------\n",
    "    def __init__(self, stuNo, stuName, deptNo):\n",
    "        self.stuNo=stuNo\n",
    "        self.stuName=stuName\n",
    "        self.deptNo=deptNo\n",
    "\n",
    "    #-------------------    \n",
    "    # 取出系名的方法\n",
    "    #-------------------        \n",
    "    def dept(self):\n",
    "        if self.deptNo=='6':\n",
    "            return '資管系'\n",
    "        else:\n",
    "            return '其他系'\n",
    "\n",
    "    #-------------------    \n",
    "    # 取出學制的方法\n",
    "    #-------------------            \n",
    "    def division(self):\n",
    "        if self.stuNo[0]=='N':\n",
    "            return '進修推廣部'\n",
    "        else:\n",
    "            return '日間部'\n",
    "        \n",
    "\n",
    "# 物件初始化\n",
    "student = Student(1, '王大同', 6)\n",
    "\n",
    "print(student.stuName)"
   ]
  },
  {
   "cell_type": "markdown",
   "metadata": {},
   "source": [
    "### 用 import 引入外部類別檔"
   ]
  },
  {
   "cell_type": "code",
   "execution_count": 7,
   "metadata": {},
   "outputs": [
    {
     "name": "stdout",
     "output_type": "stream",
     "text": [
      "王大同\n"
     ]
    }
   ],
   "source": [
    "import classes.Student\n",
    "\n",
    "student = Student(1, '王大同', 6)\n",
    "print(student.stuName)"
   ]
  },
  {
   "cell_type": "markdown",
   "metadata": {},
   "source": [
    "### 類別(class)-@property\n",
    "如果改寫了類別中屬性取存的邏輯, 能讓其他程式用直接取存屬性值的方式呼叫改寫的方法, 比呼叫getter及setter方便, 也是比較推薦的作法. 改寫的屬性實際存放名稱在前方加上一個_(底線), 另外在設定屬性值的方法前加上@property修飾, 在取出屬性值的方法前加上@屬性名稱.setter的修飾. 之前加上底線的屬性名稱, 是為了和設定及取用方法的名稱有所區別.\n"
   ]
  },
  {
   "cell_type": "code",
   "execution_count": 6,
   "metadata": {},
   "outputs": [
    {
     "name": "stdout",
     "output_type": "stream",
     "text": [
      "學號:1056001  姓名:王小明  性別:女  學制:日間部\n",
      "學號:1056002  姓名:陳小華  性別:None  學制:日間部\n",
      "學號:1056003  姓名:李小強  性別:None  學制:日間部\n"
     ]
    }
   ],
   "source": [
    "class Student():\n",
    "    #------------------------------       \n",
    "    # 建構元\n",
    "    # 為了重新定義gender屬性的取存, \n",
    "    # 將實際存放名稱改為 _gender.\n",
    "    #------------------------------   \n",
    "    def __init__(self, stuNo, stuName, gender=None):\n",
    "        self.stuNo=stuNo\n",
    "        self.stuName=stuName\n",
    "        self.gender=gender    #這行指令會呼叫@gender.setter方法\n",
    "\n",
    "    #----------------------------------    \n",
    "    # 取用gender屬性的方法\n",
    "    # 直接用 [...=實例名稱.gender] 即可\n",
    "    #---------------------------------- \n",
    "    @property\n",
    "    def gender(self):\n",
    "        if self._gender=='M':\n",
    "            return '男'\n",
    "        elif self._gender=='F':\n",
    "            return '女'\n",
    "        else:\n",
    "            return None\n",
    "\n",
    "    #----------------------------------    \n",
    "    # 寫入gender屬性的方法\n",
    "    # 直接用 [實例名稱.gender=...] 即可\n",
    "    #---------------------------------- \n",
    "    @gender.setter\n",
    "    def gender(self, gender):\n",
    "        if gender=='M' or gender=='F':\n",
    "            self._gender=gender\n",
    "        else:\n",
    "            self._gender=None\n",
    "    \n",
    "\n",
    "    #-------------------    \n",
    "    # 取出學制的方法\n",
    "    #-------------------\n",
    "    def division(self):\n",
    "        if self.stuNo[0]=='N':\n",
    "            return '進修推廣部'\n",
    "        else:\n",
    "            return '日間部'\n",
    "        \n",
    "\n",
    "# ------------------------------------------------------------------------------------------\n",
    "\n",
    "s1=Student('1056001', '王小明', 'F')\n",
    "s2=Student('1056002', '陳小華')\n",
    "s3=Student('1056003', '李小強', 'A')\n",
    "\n",
    "print('學號:{}  姓名:{}  性別:{}  學制:{}'.format(s1.stuNo, s1.stuName, s1.gender, s1.division()))\n",
    "print('學號:{}  姓名:{}  性別:{}  學制:{}'.format(s2.stuNo, s2.stuName, s2.gender, s2.division()))\n",
    "print('學號:{}  姓名:{}  性別:{}  學制:{}'.format(s3.stuNo, s3.stuName, s3.gender, s3.division()))"
   ]
  },
  {
   "cell_type": "markdown",
   "metadata": {},
   "source": [
    "### 類別(class)-繼承\n",
    "在宣告類別敘述的小括號中加入另一個類別名稱, 加入的就是父類別, 自己稱為子類別. 所有類別最上層的父親都是object.\n",
    "\n",
    "        object\n",
    "           ^\n",
    "           |\n",
    "       Student類別       宣告成: class Student(): 或 class Student(object):\n",
    "           ^\n",
    "           |\n",
    "      IM_Student類別     宣告成: class IM_Student(Student):"
   ]
  },
  {
   "cell_type": "markdown",
   "metadata": {},
   "source": [
    "### 類別　多重繼承\n",
    "\n",
    "                     object\n",
    "                       ^\n",
    "            ___________|_____________            \n",
    "           |                         |\n",
    "       Student類別                Skill類別\n",
    "           ^                         ^ \n",
    "           |_________________________|\n",
    "                        |\n",
    "                  IM_Student類別   (繼承了2個父親)"
   ]
  }
 ],
 "metadata": {
  "kernelspec": {
   "display_name": "Python 3",
   "language": "python",
   "name": "python3"
  },
  "language_info": {
   "codemirror_mode": {
    "name": "ipython",
    "version": 3
   },
   "file_extension": ".py",
   "mimetype": "text/x-python",
   "name": "python",
   "nbconvert_exporter": "python",
   "pygments_lexer": "ipython3",
   "version": "3.6.5"
  }
 },
 "nbformat": 4,
 "nbformat_minor": 2
}
